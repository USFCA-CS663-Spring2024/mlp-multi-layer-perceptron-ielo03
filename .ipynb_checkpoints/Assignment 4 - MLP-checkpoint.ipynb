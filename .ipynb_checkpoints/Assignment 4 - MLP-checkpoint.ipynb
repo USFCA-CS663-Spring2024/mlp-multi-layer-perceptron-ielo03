{
 "cells": [
  {
   "cell_type": "markdown",
   "id": "noted-template",
   "metadata": {},
   "source": [
    "# Import data"
   ]
  },
  {
   "cell_type": "code",
   "execution_count": 1,
   "id": "stopped-jewel",
   "metadata": {},
   "outputs": [
    {
     "data": {
      "text/html": [
       "<div>\n",
       "<style scoped>\n",
       "    .dataframe tbody tr th:only-of-type {\n",
       "        vertical-align: middle;\n",
       "    }\n",
       "\n",
       "    .dataframe tbody tr th {\n",
       "        vertical-align: top;\n",
       "    }\n",
       "\n",
       "    .dataframe thead th {\n",
       "        text-align: right;\n",
       "    }\n",
       "</style>\n",
       "<table border=\"1\" class=\"dataframe\">\n",
       "  <thead>\n",
       "    <tr style=\"text-align: right;\">\n",
       "      <th></th>\n",
       "      <th>fixed acidity</th>\n",
       "      <th>volatile acidity</th>\n",
       "      <th>citric acid</th>\n",
       "      <th>residual sugar</th>\n",
       "      <th>chlorides</th>\n",
       "      <th>free sulfur dioxide</th>\n",
       "      <th>total sulfur dioxide</th>\n",
       "      <th>density</th>\n",
       "      <th>pH</th>\n",
       "      <th>sulphates</th>\n",
       "      <th>alcohol</th>\n",
       "      <th>quality</th>\n",
       "    </tr>\n",
       "  </thead>\n",
       "  <tbody>\n",
       "    <tr>\n",
       "      <th>0</th>\n",
       "      <td>7.4</td>\n",
       "      <td>0.700</td>\n",
       "      <td>0.00</td>\n",
       "      <td>1.9</td>\n",
       "      <td>0.076</td>\n",
       "      <td>11.0</td>\n",
       "      <td>34.0</td>\n",
       "      <td>0.99780</td>\n",
       "      <td>3.51</td>\n",
       "      <td>0.56</td>\n",
       "      <td>9.4</td>\n",
       "      <td>5</td>\n",
       "    </tr>\n",
       "    <tr>\n",
       "      <th>1</th>\n",
       "      <td>7.8</td>\n",
       "      <td>0.880</td>\n",
       "      <td>0.00</td>\n",
       "      <td>2.6</td>\n",
       "      <td>0.098</td>\n",
       "      <td>25.0</td>\n",
       "      <td>67.0</td>\n",
       "      <td>0.99680</td>\n",
       "      <td>3.20</td>\n",
       "      <td>0.68</td>\n",
       "      <td>9.8</td>\n",
       "      <td>5</td>\n",
       "    </tr>\n",
       "    <tr>\n",
       "      <th>2</th>\n",
       "      <td>7.8</td>\n",
       "      <td>0.760</td>\n",
       "      <td>0.04</td>\n",
       "      <td>2.3</td>\n",
       "      <td>0.092</td>\n",
       "      <td>15.0</td>\n",
       "      <td>54.0</td>\n",
       "      <td>0.99700</td>\n",
       "      <td>3.26</td>\n",
       "      <td>0.65</td>\n",
       "      <td>9.8</td>\n",
       "      <td>5</td>\n",
       "    </tr>\n",
       "    <tr>\n",
       "      <th>3</th>\n",
       "      <td>11.2</td>\n",
       "      <td>0.280</td>\n",
       "      <td>0.56</td>\n",
       "      <td>1.9</td>\n",
       "      <td>0.075</td>\n",
       "      <td>17.0</td>\n",
       "      <td>60.0</td>\n",
       "      <td>0.99800</td>\n",
       "      <td>3.16</td>\n",
       "      <td>0.58</td>\n",
       "      <td>9.8</td>\n",
       "      <td>6</td>\n",
       "    </tr>\n",
       "    <tr>\n",
       "      <th>4</th>\n",
       "      <td>7.4</td>\n",
       "      <td>0.700</td>\n",
       "      <td>0.00</td>\n",
       "      <td>1.9</td>\n",
       "      <td>0.076</td>\n",
       "      <td>11.0</td>\n",
       "      <td>34.0</td>\n",
       "      <td>0.99780</td>\n",
       "      <td>3.51</td>\n",
       "      <td>0.56</td>\n",
       "      <td>9.4</td>\n",
       "      <td>5</td>\n",
       "    </tr>\n",
       "    <tr>\n",
       "      <th>...</th>\n",
       "      <td>...</td>\n",
       "      <td>...</td>\n",
       "      <td>...</td>\n",
       "      <td>...</td>\n",
       "      <td>...</td>\n",
       "      <td>...</td>\n",
       "      <td>...</td>\n",
       "      <td>...</td>\n",
       "      <td>...</td>\n",
       "      <td>...</td>\n",
       "      <td>...</td>\n",
       "      <td>...</td>\n",
       "    </tr>\n",
       "    <tr>\n",
       "      <th>1594</th>\n",
       "      <td>6.2</td>\n",
       "      <td>0.600</td>\n",
       "      <td>0.08</td>\n",
       "      <td>2.0</td>\n",
       "      <td>0.090</td>\n",
       "      <td>32.0</td>\n",
       "      <td>44.0</td>\n",
       "      <td>0.99490</td>\n",
       "      <td>3.45</td>\n",
       "      <td>0.58</td>\n",
       "      <td>10.5</td>\n",
       "      <td>5</td>\n",
       "    </tr>\n",
       "    <tr>\n",
       "      <th>1595</th>\n",
       "      <td>5.9</td>\n",
       "      <td>0.550</td>\n",
       "      <td>0.10</td>\n",
       "      <td>2.2</td>\n",
       "      <td>0.062</td>\n",
       "      <td>39.0</td>\n",
       "      <td>51.0</td>\n",
       "      <td>0.99512</td>\n",
       "      <td>3.52</td>\n",
       "      <td>0.76</td>\n",
       "      <td>11.2</td>\n",
       "      <td>6</td>\n",
       "    </tr>\n",
       "    <tr>\n",
       "      <th>1596</th>\n",
       "      <td>6.3</td>\n",
       "      <td>0.510</td>\n",
       "      <td>0.13</td>\n",
       "      <td>2.3</td>\n",
       "      <td>0.076</td>\n",
       "      <td>29.0</td>\n",
       "      <td>40.0</td>\n",
       "      <td>0.99574</td>\n",
       "      <td>3.42</td>\n",
       "      <td>0.75</td>\n",
       "      <td>11.0</td>\n",
       "      <td>6</td>\n",
       "    </tr>\n",
       "    <tr>\n",
       "      <th>1597</th>\n",
       "      <td>5.9</td>\n",
       "      <td>0.645</td>\n",
       "      <td>0.12</td>\n",
       "      <td>2.0</td>\n",
       "      <td>0.075</td>\n",
       "      <td>32.0</td>\n",
       "      <td>44.0</td>\n",
       "      <td>0.99547</td>\n",
       "      <td>3.57</td>\n",
       "      <td>0.71</td>\n",
       "      <td>10.2</td>\n",
       "      <td>5</td>\n",
       "    </tr>\n",
       "    <tr>\n",
       "      <th>1598</th>\n",
       "      <td>6.0</td>\n",
       "      <td>0.310</td>\n",
       "      <td>0.47</td>\n",
       "      <td>3.6</td>\n",
       "      <td>0.067</td>\n",
       "      <td>18.0</td>\n",
       "      <td>42.0</td>\n",
       "      <td>0.99549</td>\n",
       "      <td>3.39</td>\n",
       "      <td>0.66</td>\n",
       "      <td>11.0</td>\n",
       "      <td>6</td>\n",
       "    </tr>\n",
       "  </tbody>\n",
       "</table>\n",
       "<p>1599 rows × 12 columns</p>\n",
       "</div>"
      ],
      "text/plain": [
       "      fixed acidity  volatile acidity  citric acid  residual sugar  chlorides  \\\n",
       "0               7.4             0.700         0.00             1.9      0.076   \n",
       "1               7.8             0.880         0.00             2.6      0.098   \n",
       "2               7.8             0.760         0.04             2.3      0.092   \n",
       "3              11.2             0.280         0.56             1.9      0.075   \n",
       "4               7.4             0.700         0.00             1.9      0.076   \n",
       "...             ...               ...          ...             ...        ...   \n",
       "1594            6.2             0.600         0.08             2.0      0.090   \n",
       "1595            5.9             0.550         0.10             2.2      0.062   \n",
       "1596            6.3             0.510         0.13             2.3      0.076   \n",
       "1597            5.9             0.645         0.12             2.0      0.075   \n",
       "1598            6.0             0.310         0.47             3.6      0.067   \n",
       "\n",
       "      free sulfur dioxide  total sulfur dioxide  density    pH  sulphates  \\\n",
       "0                    11.0                  34.0  0.99780  3.51       0.56   \n",
       "1                    25.0                  67.0  0.99680  3.20       0.68   \n",
       "2                    15.0                  54.0  0.99700  3.26       0.65   \n",
       "3                    17.0                  60.0  0.99800  3.16       0.58   \n",
       "4                    11.0                  34.0  0.99780  3.51       0.56   \n",
       "...                   ...                   ...      ...   ...        ...   \n",
       "1594                 32.0                  44.0  0.99490  3.45       0.58   \n",
       "1595                 39.0                  51.0  0.99512  3.52       0.76   \n",
       "1596                 29.0                  40.0  0.99574  3.42       0.75   \n",
       "1597                 32.0                  44.0  0.99547  3.57       0.71   \n",
       "1598                 18.0                  42.0  0.99549  3.39       0.66   \n",
       "\n",
       "      alcohol  quality  \n",
       "0         9.4        5  \n",
       "1         9.8        5  \n",
       "2         9.8        5  \n",
       "3         9.8        6  \n",
       "4         9.4        5  \n",
       "...       ...      ...  \n",
       "1594     10.5        5  \n",
       "1595     11.2        6  \n",
       "1596     11.0        6  \n",
       "1597     10.2        5  \n",
       "1598     11.0        6  \n",
       "\n",
       "[1599 rows x 12 columns]"
      ]
     },
     "execution_count": 1,
     "metadata": {},
     "output_type": "execute_result"
    }
   ],
   "source": [
    "import pandas as pd\n",
    "\n",
    "df = pd.read_csv('winequality-red.csv')\n",
    "df"
   ]
  },
  {
   "cell_type": "code",
   "execution_count": 2,
   "id": "polished-exploration",
   "metadata": {},
   "outputs": [
    {
     "name": "stdout",
     "output_type": "stream",
     "text": [
      "<class 'pandas.core.frame.DataFrame'>\n",
      "RangeIndex: 1599 entries, 0 to 1598\n",
      "Data columns (total 12 columns):\n",
      " #   Column                Non-Null Count  Dtype  \n",
      "---  ------                --------------  -----  \n",
      " 0   fixed acidity         1599 non-null   float64\n",
      " 1   volatile acidity      1599 non-null   float64\n",
      " 2   citric acid           1599 non-null   float64\n",
      " 3   residual sugar        1599 non-null   float64\n",
      " 4   chlorides             1599 non-null   float64\n",
      " 5   free sulfur dioxide   1599 non-null   float64\n",
      " 6   total sulfur dioxide  1599 non-null   float64\n",
      " 7   density               1599 non-null   float64\n",
      " 8   pH                    1599 non-null   float64\n",
      " 9   sulphates             1599 non-null   float64\n",
      " 10  alcohol               1599 non-null   float64\n",
      " 11  quality               1599 non-null   int64  \n",
      "dtypes: float64(11), int64(1)\n",
      "memory usage: 150.0 KB\n"
     ]
    }
   ],
   "source": [
    "df.info()"
   ]
  },
  {
   "cell_type": "code",
   "execution_count": 3,
   "id": "60e87b37-744a-42b1-adfe-2ae0ad5f6a8e",
   "metadata": {},
   "outputs": [],
   "source": [
    "for col in df.select_dtypes(include=['float64']).columns:\n",
    "    df[col] = pd.to_numeric(df[col], downcast='float')\n",
    "for col in df.select_dtypes(include=['int64']).columns:\n",
    "    df[col] = pd.to_numeric(df[col], downcast='integer')"
   ]
  },
  {
   "cell_type": "code",
   "execution_count": 4,
   "id": "6601ec14-5a2d-4c3c-9e4d-af9c5947e82c",
   "metadata": {},
   "outputs": [
    {
     "name": "stdout",
     "output_type": "stream",
     "text": [
      "<class 'pandas.core.frame.DataFrame'>\n",
      "RangeIndex: 1599 entries, 0 to 1598\n",
      "Data columns (total 12 columns):\n",
      " #   Column                Non-Null Count  Dtype  \n",
      "---  ------                --------------  -----  \n",
      " 0   fixed acidity         1599 non-null   float32\n",
      " 1   volatile acidity      1599 non-null   float32\n",
      " 2   citric acid           1599 non-null   float32\n",
      " 3   residual sugar        1599 non-null   float32\n",
      " 4   chlorides             1599 non-null   float32\n",
      " 5   free sulfur dioxide   1599 non-null   float32\n",
      " 6   total sulfur dioxide  1599 non-null   float32\n",
      " 7   density               1599 non-null   float32\n",
      " 8   pH                    1599 non-null   float32\n",
      " 9   sulphates             1599 non-null   float32\n",
      " 10  alcohol               1599 non-null   float32\n",
      " 11  quality               1599 non-null   int8   \n",
      "dtypes: float32(11), int8(1)\n",
      "memory usage: 70.4 KB\n"
     ]
    }
   ],
   "source": [
    "df.info()"
   ]
  },
  {
   "cell_type": "code",
   "execution_count": 5,
   "id": "7e6f98e9-28b2-4dcc-b27c-599c965035ed",
   "metadata": {},
   "outputs": [
    {
     "data": {
      "text/html": [
       "<div>\n",
       "<style scoped>\n",
       "    .dataframe tbody tr th:only-of-type {\n",
       "        vertical-align: middle;\n",
       "    }\n",
       "\n",
       "    .dataframe tbody tr th {\n",
       "        vertical-align: top;\n",
       "    }\n",
       "\n",
       "    .dataframe thead th {\n",
       "        text-align: right;\n",
       "    }\n",
       "</style>\n",
       "<table border=\"1\" class=\"dataframe\">\n",
       "  <thead>\n",
       "    <tr style=\"text-align: right;\">\n",
       "      <th></th>\n",
       "      <th>fixed acidity</th>\n",
       "      <th>volatile acidity</th>\n",
       "      <th>citric acid</th>\n",
       "      <th>residual sugar</th>\n",
       "      <th>chlorides</th>\n",
       "      <th>free sulfur dioxide</th>\n",
       "      <th>total sulfur dioxide</th>\n",
       "      <th>density</th>\n",
       "      <th>pH</th>\n",
       "      <th>sulphates</th>\n",
       "      <th>alcohol</th>\n",
       "      <th>quality</th>\n",
       "    </tr>\n",
       "  </thead>\n",
       "  <tbody>\n",
       "    <tr>\n",
       "      <th>count</th>\n",
       "      <td>1599.000000</td>\n",
       "      <td>1599.000000</td>\n",
       "      <td>1599.000000</td>\n",
       "      <td>1599.000000</td>\n",
       "      <td>1599.000000</td>\n",
       "      <td>1599.000000</td>\n",
       "      <td>1599.000000</td>\n",
       "      <td>1599.000000</td>\n",
       "      <td>1599.000000</td>\n",
       "      <td>1599.000000</td>\n",
       "      <td>1599.000000</td>\n",
       "      <td>1599.000000</td>\n",
       "    </tr>\n",
       "    <tr>\n",
       "      <th>mean</th>\n",
       "      <td>8.319637</td>\n",
       "      <td>0.527821</td>\n",
       "      <td>0.270976</td>\n",
       "      <td>2.538805</td>\n",
       "      <td>0.087467</td>\n",
       "      <td>15.874922</td>\n",
       "      <td>46.467793</td>\n",
       "      <td>0.996747</td>\n",
       "      <td>3.311113</td>\n",
       "      <td>0.658149</td>\n",
       "      <td>10.422984</td>\n",
       "      <td>5.636023</td>\n",
       "    </tr>\n",
       "    <tr>\n",
       "      <th>std</th>\n",
       "      <td>1.741096</td>\n",
       "      <td>0.179060</td>\n",
       "      <td>0.194801</td>\n",
       "      <td>1.409928</td>\n",
       "      <td>0.047065</td>\n",
       "      <td>10.460156</td>\n",
       "      <td>32.895325</td>\n",
       "      <td>0.001887</td>\n",
       "      <td>0.154386</td>\n",
       "      <td>0.169507</td>\n",
       "      <td>1.065668</td>\n",
       "      <td>0.807569</td>\n",
       "    </tr>\n",
       "    <tr>\n",
       "      <th>min</th>\n",
       "      <td>4.600000</td>\n",
       "      <td>0.120000</td>\n",
       "      <td>0.000000</td>\n",
       "      <td>0.900000</td>\n",
       "      <td>0.012000</td>\n",
       "      <td>1.000000</td>\n",
       "      <td>6.000000</td>\n",
       "      <td>0.990070</td>\n",
       "      <td>2.740000</td>\n",
       "      <td>0.330000</td>\n",
       "      <td>8.400000</td>\n",
       "      <td>3.000000</td>\n",
       "    </tr>\n",
       "    <tr>\n",
       "      <th>25%</th>\n",
       "      <td>7.100000</td>\n",
       "      <td>0.390000</td>\n",
       "      <td>0.090000</td>\n",
       "      <td>1.900000</td>\n",
       "      <td>0.070000</td>\n",
       "      <td>7.000000</td>\n",
       "      <td>22.000000</td>\n",
       "      <td>0.995600</td>\n",
       "      <td>3.210000</td>\n",
       "      <td>0.550000</td>\n",
       "      <td>9.500000</td>\n",
       "      <td>5.000000</td>\n",
       "    </tr>\n",
       "    <tr>\n",
       "      <th>50%</th>\n",
       "      <td>7.900000</td>\n",
       "      <td>0.520000</td>\n",
       "      <td>0.260000</td>\n",
       "      <td>2.200000</td>\n",
       "      <td>0.079000</td>\n",
       "      <td>14.000000</td>\n",
       "      <td>38.000000</td>\n",
       "      <td>0.996750</td>\n",
       "      <td>3.310000</td>\n",
       "      <td>0.620000</td>\n",
       "      <td>10.200000</td>\n",
       "      <td>6.000000</td>\n",
       "    </tr>\n",
       "    <tr>\n",
       "      <th>75%</th>\n",
       "      <td>9.200000</td>\n",
       "      <td>0.640000</td>\n",
       "      <td>0.420000</td>\n",
       "      <td>2.600000</td>\n",
       "      <td>0.090000</td>\n",
       "      <td>21.000000</td>\n",
       "      <td>62.000000</td>\n",
       "      <td>0.997835</td>\n",
       "      <td>3.400000</td>\n",
       "      <td>0.730000</td>\n",
       "      <td>11.100000</td>\n",
       "      <td>6.000000</td>\n",
       "    </tr>\n",
       "    <tr>\n",
       "      <th>max</th>\n",
       "      <td>15.900000</td>\n",
       "      <td>1.580000</td>\n",
       "      <td>1.000000</td>\n",
       "      <td>15.500000</td>\n",
       "      <td>0.611000</td>\n",
       "      <td>72.000000</td>\n",
       "      <td>289.000000</td>\n",
       "      <td>1.003690</td>\n",
       "      <td>4.010000</td>\n",
       "      <td>2.000000</td>\n",
       "      <td>14.900000</td>\n",
       "      <td>8.000000</td>\n",
       "    </tr>\n",
       "  </tbody>\n",
       "</table>\n",
       "</div>"
      ],
      "text/plain": [
       "       fixed acidity  volatile acidity  citric acid  residual sugar  \\\n",
       "count    1599.000000       1599.000000  1599.000000     1599.000000   \n",
       "mean        8.319637          0.527821     0.270976        2.538805   \n",
       "std         1.741096          0.179060     0.194801        1.409928   \n",
       "min         4.600000          0.120000     0.000000        0.900000   \n",
       "25%         7.100000          0.390000     0.090000        1.900000   \n",
       "50%         7.900000          0.520000     0.260000        2.200000   \n",
       "75%         9.200000          0.640000     0.420000        2.600000   \n",
       "max        15.900000          1.580000     1.000000       15.500000   \n",
       "\n",
       "         chlorides  free sulfur dioxide  total sulfur dioxide      density  \\\n",
       "count  1599.000000          1599.000000           1599.000000  1599.000000   \n",
       "mean      0.087467            15.874922             46.467793     0.996747   \n",
       "std       0.047065            10.460156             32.895325     0.001887   \n",
       "min       0.012000             1.000000              6.000000     0.990070   \n",
       "25%       0.070000             7.000000             22.000000     0.995600   \n",
       "50%       0.079000            14.000000             38.000000     0.996750   \n",
       "75%       0.090000            21.000000             62.000000     0.997835   \n",
       "max       0.611000            72.000000            289.000000     1.003690   \n",
       "\n",
       "                pH    sulphates      alcohol      quality  \n",
       "count  1599.000000  1599.000000  1599.000000  1599.000000  \n",
       "mean      3.311113     0.658149    10.422984     5.636023  \n",
       "std       0.154386     0.169507     1.065668     0.807569  \n",
       "min       2.740000     0.330000     8.400000     3.000000  \n",
       "25%       3.210000     0.550000     9.500000     5.000000  \n",
       "50%       3.310000     0.620000    10.200000     6.000000  \n",
       "75%       3.400000     0.730000    11.100000     6.000000  \n",
       "max       4.010000     2.000000    14.900000     8.000000  "
      ]
     },
     "execution_count": 5,
     "metadata": {},
     "output_type": "execute_result"
    }
   ],
   "source": [
    "df.describe()"
   ]
  },
  {
   "cell_type": "code",
   "execution_count": 6,
   "id": "8bfa8281-81e1-46f9-84c9-8f8a4ee8457e",
   "metadata": {},
   "outputs": [
    {
     "data": {
      "text/plain": [
       "<Axes: >"
      ]
     },
     "execution_count": 6,
     "metadata": {},
     "output_type": "execute_result"
    },
    {
     "data": {
      "image/png": "[encoded data removed]",
      "text/plain": [
       "<Figure size 640x480 with 2 Axes>"
      ]
     },
     "metadata": {},
     "output_type": "display_data"
    }
   ],
   "source": [
    "import seaborn as sns\n",
    "sns.heatmap(df.corr(), annot=True)"
   ]
  },
  {
   "cell_type": "code",
   "execution_count": 7,
   "id": "19ace444-9848-4328-98c0-b8e5303c4b87",
   "metadata": {},
   "outputs": [
    {
     "data": {
      "text/plain": [
       "<Axes: >"
      ]
     },
     "execution_count": 7,
     "metadata": {},
     "output_type": "execute_result"
    },
    {
     "data": {
      "image/png": "[encoded data removed]",
      "text/plain": [
       "<Figure size 640x480 with 1 Axes>"
      ]
     },
     "metadata": {},
     "output_type": "display_data"
    }
   ],
   "source": [
    "sns.boxplot(data=df)"
   ]
  },
  {
   "cell_type": "code",
   "execution_count": 8,
   "id": "48fb5bc9-88aa-463a-8b91-0f533d39c32e",
   "metadata": {},
   "outputs": [
    {
     "data": {
      "text/plain": [
       "(      fixed acidity  volatile acidity  citric acid  residual sugar  chlorides  \\\n",
       " 0               7.4             0.700         0.00             1.9      0.076   \n",
       " 1               7.8             0.880         0.00             2.6      0.098   \n",
       " 2               7.8             0.760         0.04             2.3      0.092   \n",
       " 3              11.2             0.280         0.56             1.9      0.075   \n",
       " 4               7.4             0.700         0.00             1.9      0.076   \n",
       " ...             ...               ...          ...             ...        ...   \n",
       " 1594            6.2             0.600         0.08             2.0      0.090   \n",
       " 1595            5.9             0.550         0.10             2.2      0.062   \n",
       " 1596            6.3             0.510         0.13             2.3      0.076   \n",
       " 1597            5.9             0.645         0.12             2.0      0.075   \n",
       " 1598            6.0             0.310         0.47             3.6      0.067   \n",
       " \n",
       "       free sulfur dioxide  total sulfur dioxide  density    pH  sulphates  \\\n",
       " 0                    11.0                  34.0  0.99780  3.51       0.56   \n",
       " 1                    25.0                  67.0  0.99680  3.20       0.68   \n",
       " 2                    15.0                  54.0  0.99700  3.26       0.65   \n",
       " 3                    17.0                  60.0  0.99800  3.16       0.58   \n",
       " 4                    11.0                  34.0  0.99780  3.51       0.56   \n",
       " ...                   ...                   ...      ...   ...        ...   \n",
       " 1594                 32.0                  44.0  0.99490  3.45       0.58   \n",
       " 1595                 39.0                  51.0  0.99512  3.52       0.76   \n",
       " 1596                 29.0                  40.0  0.99574  3.42       0.75   \n",
       " 1597                 32.0                  44.0  0.99547  3.57       0.71   \n",
       " 1598                 18.0                  42.0  0.99549  3.39       0.66   \n",
       " \n",
       "       alcohol  \n",
       " 0         9.4  \n",
       " 1         9.8  \n",
       " 2         9.8  \n",
       " 3         9.8  \n",
       " 4         9.4  \n",
       " ...       ...  \n",
       " 1594     10.5  \n",
       " 1595     11.2  \n",
       " 1596     11.0  \n",
       " 1597     10.2  \n",
       " 1598     11.0  \n",
       " \n",
       " [1599 rows x 11 columns],\n",
       " 0       5\n",
       " 1       5\n",
       " 2       5\n",
       " 3       6\n",
       " 4       5\n",
       "        ..\n",
       " 1594    5\n",
       " 1595    6\n",
       " 1596    6\n",
       " 1597    5\n",
       " 1598    6\n",
       " Name: quality, Length: 1599, dtype: int8)"
      ]
     },
     "execution_count": 8,
     "metadata": {},
     "output_type": "execute_result"
    }
   ],
   "source": [
    "X, y = df.iloc[:,:-1], df.iloc[:,-1]\n",
    "X, y"
   ]
  },
  {
   "cell_type": "code",
   "execution_count": 9,
   "id": "6703e2d3-b552-432a-864b-34f915b79de3",
   "metadata": {},
   "outputs": [],
   "source": [
    "from sklearn.preprocessing import StandardScaler\n",
    "\n",
    "scaler = StandardScaler()"
   ]
  },
  {
   "cell_type": "code",
   "execution_count": 10,
   "id": "ff1115bb-a8c9-4384-8d5d-9d8e2d1da05d",
   "metadata": {},
   "outputs": [
    {
     "data": {
      "text/plain": [
       "array([[-0.5283596 ,  0.96187663, -1.3914723 , ...,  1.2886429 ,\n",
       "        -0.57920647, -0.9602464 ],\n",
       "       [-0.29854733,  1.9674425 , -1.3914723 , ..., -0.719933  ,\n",
       "         0.12895045, -0.58477694],\n",
       "       [-0.29854733,  1.2970653 , -1.1860704 , ..., -0.3311767 ,\n",
       "        -0.04808896, -0.58477694],\n",
       "       ...,\n",
       "       [-1.160343  , -0.09955393, -0.7239163 , ...,  0.7055084 ,\n",
       "         0.54204196,  0.54162985],\n",
       "       [-1.3901552 ,  0.65462035, -0.77526677, ...,  1.6773992 ,\n",
       "         0.3059895 , -0.20930828],\n",
       "       [-1.3327023 , -1.2168492 ,  1.0219995 , ...,  0.5111302 ,\n",
       "         0.01092441,  0.54162985]], dtype=float32)"
      ]
     },
     "execution_count": 10,
     "metadata": {},
     "output_type": "execute_result"
    }
   ],
   "source": [
    "scaled = scaler.fit_transform(X)\n",
    "scaled"
   ]
  },
  {
   "cell_type": "code",
   "execution_count": 40,
   "id": "b45e0643-02fe-4abd-80ae-6951b87a884d",
   "metadata": {},
   "outputs": [],
   "source": [
    "from sklearn.model_selection import train_test_split\n",
    "\n",
    "train_x, ee_x, train_y, ee_y = train_test_split(scaled, y, test_size=0.3, random_state=42)"
   ]
  },
  {
   "cell_type": "code",
   "execution_count": 41,
   "id": "42c05e02-b3ed-4499-9ab1-aaeb8f39d938",
   "metadata": {},
   "outputs": [],
   "source": [
    "valid_x, test_x, valid_y, test_y = train_test_split(ee_x, ee_y, test_size=0.5, random_state=42)"
   ]
  },
  {
   "cell_type": "code",
   "execution_count": 42,
   "id": "8cec5654-b17c-4ab8-b960-1413e39f413d",
   "metadata": {},
   "outputs": [
    {
     "data": {
      "text/plain": [
       "array([[ 0.16107714, -1.719632  ,  0.4571444 , ...,  1.029472  ,\n",
       "         1.250199  ,  0.54162985],\n",
       "       [ 2.4017456 , -0.37887767,  1.8436067 , ..., -2.0805817 ,\n",
       "         1.250199  , -0.20930828],\n",
       "       [-0.64326584,  0.06804054, -0.00500974, ...,  0.5111302 ,\n",
       "         0.3059895 ,  0.54162985],\n",
       "       ...,\n",
       "       [-0.64326584,  0.51495856, -1.0833695 , ...,  1.2886429 ,\n",
       "        -0.69723254, -0.86637884],\n",
       "       [-0.24109434, -1.8313617 ,  0.40579385, ...,  0.05757964,\n",
       "         0.8371074 ,  1.3864348 ],\n",
       "       [-1.4476082 , -1.3285788 , -0.05636031, ...,  0.5111302 ,\n",
       "        -0.69723254,  2.8883111 ]], dtype=float32)"
      ]
     },
     "execution_count": 42,
     "metadata": {},
     "output_type": "execute_result"
    }
   ],
   "source": [
    "train_x"
   ]
  },
  {
   "cell_type": "code",
   "execution_count": 44,
   "id": "4ea22917-658a-42fb-8820-4ad0d66dc519",
   "metadata": {},
   "outputs": [],
   "source": [
    "import torch\n",
    "\n",
    "train_x = torch.tensor(train_x)"
   ]
  },
  {
   "cell_type": "code",
   "execution_count": 45,
   "id": "a1372628-651e-4690-8e54-c0da3a029500",
   "metadata": {},
   "outputs": [
    {
     "data": {
      "text/plain": [
       "tensor([[ 0.1611, -1.7196,  0.4571,  ...,  1.0295,  1.2502,  0.5416],\n",
       "        [ 2.4017, -0.3789,  1.8436,  ..., -2.0806,  1.2502, -0.2093],\n",
       "        [-0.6433,  0.0680, -0.0050,  ...,  0.5111,  0.3060,  0.5416],\n",
       "        ...,\n",
       "        [-0.6433,  0.5150, -1.0834,  ...,  1.2886, -0.6972, -0.8664],\n",
       "        [-0.2411, -1.8314,  0.4058,  ...,  0.0576,  0.8371,  1.3864],\n",
       "        [-1.4476, -1.3286, -0.0564,  ...,  0.5111, -0.6972,  2.8883]])"
      ]
     },
     "execution_count": 45,
     "metadata": {},
     "output_type": "execute_result"
    }
   ],
   "source": [
    "train_x"
   ]
  },
  {
   "cell_type": "code",
   "execution_count": 47,
   "id": "a7c4f8d2-5e67-4eb3-b14a-3c5d7d8ae9b9",
   "metadata": {},
   "outputs": [],
   "source": [
    "valid_x, test_x = map(torch.tensor, (valid_x, test_x))\n",
    "valid_x = valid_x.float()\n",
    "test_x = test_x.float()"
   ]
  },
  {
   "cell_type": "code",
   "execution_count": 49,
   "id": "2d8bce31-d904-420c-ae7e-3d7ffb3ade5f",
   "metadata": {},
   "outputs": [],
   "source": [
    "train_y, valid_y, test_y = map(torch.tensor, (train_y.to_numpy(), valid_y.to_numpy(), test_y.to_numpy()))"
   ]
  },
  {
   "cell_type": "code",
   "execution_count": 50,
   "id": "a511432d-e2d6-478d-852e-9dd03046b7e1",
   "metadata": {},
   "outputs": [
    {
     "data": {
      "text/plain": [
       "tensor([5, 6, 6, 6, 5, 6, 5, 7, 6, 6, 5, 5, 6, 5, 6, 5, 6, 6, 6, 7, 6, 5, 5, 6,\n",
       "        5, 6, 5, 5, 6, 8, 7, 5, 6, 5, 7, 6, 5, 7, 7, 5, 6, 6, 5, 6, 6, 5, 6, 6,\n",
       "        6, 6, 6, 5, 5, 5, 6, 5, 6, 7, 6, 6, 4, 5, 5, 6, 7, 6, 5, 6, 5, 5, 6, 5,\n",
       "        6, 5, 6, 7, 6, 4, 6, 5, 5, 5, 6, 8, 6, 5, 6, 6, 5, 5, 6, 6, 5, 5, 6, 5,\n",
       "        5, 4, 5, 6, 6, 6, 5, 5, 6, 6, 5, 5, 6, 7, 7, 6, 6, 5, 6, 5, 6, 6, 6, 5,\n",
       "        6, 4, 7, 5, 5, 5, 5, 5, 7, 5, 6, 6, 6, 5, 6, 5, 5, 6, 6, 6, 6, 6, 6, 7,\n",
       "        5, 5, 5, 6, 6, 6, 5, 6, 6, 5, 6, 6, 5, 5, 5, 5, 7, 6, 7, 7, 6, 5, 6, 5,\n",
       "        6, 5, 5, 6, 6, 6, 6, 5, 5, 5, 5, 7, 4, 5, 6, 7, 5, 6, 6, 6, 5, 6, 6, 5,\n",
       "        4, 7, 6, 6, 5, 7, 6, 8, 5, 5, 5, 5, 6, 7, 5, 6, 6, 7, 5, 5, 6, 7, 5, 6,\n",
       "        5, 6, 5, 5, 6, 7, 5, 6, 6, 6, 7, 4, 6, 6, 6, 4, 5, 7, 4, 6, 5, 6, 5, 5],\n",
       "       dtype=torch.int8)"
      ]
     },
     "execution_count": 50,
     "metadata": {},
     "output_type": "execute_result"
    }
   ],
   "source": [
    "valid_y"
   ]
  },
  {
   "cell_type": "code",
   "execution_count": 51,
   "id": "70b5e4be-ddea-4e91-96bd-63808683b5d9",
   "metadata": {},
   "outputs": [],
   "source": [
    "from torch.utils.data import Dataset\n",
    "\n",
    "class WineDataset(Dataset):\n",
    "    def __init__(self, X, y):\n",
    "        self.x = X\n",
    "        self.y = y\n",
    "\n",
    "    def __getitem__(self, index):\n",
    "        return self.x[index], self.y[index]\n",
    "    \n",
    "    def __len__(self):\n",
    "        return len(self.x)"
   ]
  },
  {
   "cell_type": "code",
   "execution_count": 52,
   "id": "c4fe7917-3c7c-4a38-9480-01f36cd2421f",
   "metadata": {},
   "outputs": [],
   "source": [
    "train_data = WineDataset(train_x, train_y)\n",
    "valid_data = WineDataset(valid_x, valid_y)\n",
    "test_data = WineDataset(test_x, test_y)"
   ]
  },
  {
   "cell_type": "code",
   "execution_count": 21,
   "id": "30db60d5-758c-455c-b820-cff80c1ade20",
   "metadata": {},
   "outputs": [],
   "source": [
    "from torch.utils.data import DataLoader\n",
    "\n",
    "train_loader = DataLoader(dataset=train_data, batch_size=8)\n",
    "valid_loader = DataLoader(dataset=valid_data, batch_size=8)\n",
    "test_loader = DataLoader(dataset=test_data, batch_size=8)"
   ]
  },
  {
   "cell_type": "markdown",
   "id": "stuck-visit",
   "metadata": {},
   "source": [
    "# Creating a basic MLP"
   ]
  },
  {
   "cell_type": "code",
   "execution_count": 22,
   "id": "sunrise-integrity",
   "metadata": {},
   "outputs": [],
   "source": [
    "import torch.nn as nn\n",
    "\n",
    "class BasicMLP(nn.Module):\n",
    "    def __init__(self, input_size, output_size=1):\n",
    "        super(BasicMLP, self).__init__()\n",
    "        self.hidden = nn.Linear(input_size, 5)\n",
    "        self.output = nn.Linear(5, output_size)\n",
    "        self.activation = nn.ReLU()\n",
    "\n",
    "    def forward(self, x):\n",
    "        out = self.hidden(x)\n",
    "        out = self.activation(out)\n",
    "        out = self.output(out)\n",
    "        return out.squeeze(1)"
   ]
  },
  {
   "cell_type": "code",
   "execution_count": 23,
   "id": "a4238e3e-8bd4-4a70-8566-c5a76fedd998",
   "metadata": {},
   "outputs": [
    {
     "data": {
      "text/plain": [
       "BasicMLP(\n",
       "  (hidden): Linear(in_features=11, out_features=5, bias=True)\n",
       "  (output): Linear(in_features=5, out_features=1, bias=True)\n",
       "  (activation): ReLU()\n",
       ")"
      ]
     },
     "execution_count": 23,
     "metadata": {},
     "output_type": "execute_result"
    }
   ],
   "source": [
    "basic_model = BasicMLP(11)\n",
    "basic_model"
   ]
  },
  {
   "cell_type": "code",
   "execution_count": 24,
   "id": "8eacdba8-df23-492f-9e7f-c634c484bb93",
   "metadata": {},
   "outputs": [],
   "source": [
    "basic_criterion = nn.L1Loss()\n",
    "basic_optimiser = torch.optim.SGD(params=basic_model.parameters(), lr=0.0001, momentum=0.34)"
   ]
  },
  {
   "cell_type": "code",
   "execution_count": 25,
   "id": "5feb0fd4-e7b6-431d-8914-a9e373023d09",
   "metadata": {
    "scrolled": true
   },
   "outputs": [
    {
     "name": "stdout",
     "output_type": "stream",
     "text": [
      "Epoch 1, Train Loss: 2.0292 Validation Loss: 1.648969719807307\n",
      "Epoch 2, Train Loss: 1.5186 Validation Loss: 1.4284112672011058\n",
      "Epoch 3, Train Loss: 1.2967 Validation Loss: 1.2260366519292196\n",
      "Epoch 4, Train Loss: 1.0961 Validation Loss: 1.0518721183141073\n",
      "Epoch 5, Train Loss: 0.9333 Validation Loss: 0.891453758875529\n",
      "Epoch 6, Train Loss: 0.8120 Validation Loss: 0.7670225163300832\n",
      "Epoch 7, Train Loss: 0.7332 Validation Loss: 0.6979273537794749\n",
      "Epoch 8, Train Loss: 0.6940 Validation Loss: 0.6614715437094371\n",
      "Epoch 9, Train Loss: 0.6719 Validation Loss: 0.6383905629316966\n",
      "Epoch 10, Train Loss: 0.6565 Validation Loss: 0.6264598747094472\n",
      "Epoch 11, Train Loss: 0.6473 Validation Loss: 0.6203684667746227\n",
      "Epoch 12, Train Loss: 0.6409 Validation Loss: 0.6125194271405537\n",
      "Epoch 13, Train Loss: 0.6373 Validation Loss: 0.6077112098534901\n",
      "Epoch 14, Train Loss: 0.6335 Validation Loss: 0.6015906790892284\n",
      "Epoch 15, Train Loss: 0.6299 Validation Loss: 0.6029394507408142\n",
      "Epoch 16, Train Loss: 0.6249 Validation Loss: 0.5954592744509379\n",
      "Epoch 17, Train Loss: 0.6212 Validation Loss: 0.5889343202114106\n",
      "Epoch 18, Train Loss: 0.6170 Validation Loss: 0.5845508337020874\n",
      "Epoch 19, Train Loss: 0.6130 Validation Loss: 0.5804836710294088\n",
      "Epoch 20, Train Loss: 0.6085 Validation Loss: 0.5777940452098846\n",
      "Epoch 21, Train Loss: 0.6049 Validation Loss: 0.578517206509908\n",
      "Epoch 22, Train Loss: 0.6029 Validation Loss: 0.572778731584549\n",
      "Epoch 23, Train Loss: 0.6006 Validation Loss: 0.5710423012574514\n",
      "Epoch 24, Train Loss: 0.5979 Validation Loss: 0.5700592776139577\n",
      "Epoch 25, Train Loss: 0.5972 Validation Loss: 0.566581650575002\n",
      "Epoch 26, Train Loss: 0.5942 Validation Loss: 0.5649561882019043\n",
      "Epoch 27, Train Loss: 0.5922 Validation Loss: 0.5631655573844909\n",
      "Epoch 28, Train Loss: 0.5901 Validation Loss: 0.5601955016454061\n",
      "Epoch 29, Train Loss: 0.5885 Validation Loss: 0.5598925530910492\n",
      "Epoch 30, Train Loss: 0.5866 Validation Loss: 0.5568025132020314\n",
      "Epoch 31, Train Loss: 0.5853 Validation Loss: 0.5560595353444417\n",
      "Epoch 32, Train Loss: 0.5838 Validation Loss: 0.5547014911969502\n",
      "Epoch 33, Train Loss: 0.5818 Validation Loss: 0.5535905301570893\n",
      "Epoch 34, Train Loss: 0.5800 Validation Loss: 0.5533217489719391\n",
      "Epoch 35, Train Loss: 0.5789 Validation Loss: 0.5510815918445587\n",
      "Epoch 36, Train Loss: 0.5776 Validation Loss: 0.5503604571024577\n",
      "Epoch 37, Train Loss: 0.5762 Validation Loss: 0.5510532895723979\n",
      "Epoch 38, Train Loss: 0.5750 Validation Loss: 0.5505143562952678\n",
      "Epoch 39, Train Loss: 0.5736 Validation Loss: 0.5469488998254141\n",
      "Epoch 40, Train Loss: 0.5719 Validation Loss: 0.5473762710889181\n",
      "Epoch 41, Train Loss: 0.5711 Validation Loss: 0.5435684223969778\n",
      "Epoch 42, Train Loss: 0.5697 Validation Loss: 0.5507582128047943\n",
      "Epoch 43, Train Loss: 0.5696 Validation Loss: 0.5452148417631785\n",
      "Epoch 44, Train Loss: 0.5675 Validation Loss: 0.5431946198145549\n",
      "Epoch 45, Train Loss: 0.5667 Validation Loss: 0.5462648371855418\n",
      "Epoch 46, Train Loss: 0.5665 Validation Loss: 0.5488821427027385\n",
      "Epoch 47, Train Loss: 0.5664 Validation Loss: 0.5451535940170288\n",
      "Epoch 48, Train Loss: 0.5649 Validation Loss: 0.5491082827250163\n",
      "Epoch 49, Train Loss: 0.5638 Validation Loss: 0.5442016780376434\n",
      "Epoch 50, Train Loss: 0.5617 Validation Loss: 0.5462574899196625\n",
      "Epoch 51, Train Loss: 0.5621 Validation Loss: 0.5469911972681681\n",
      "Epoch 52, Train Loss: 0.5611 Validation Loss: 0.5483380774656932\n",
      "Epoch 53, Train Loss: 0.5595 Validation Loss: 0.5478068033854167\n",
      "Epoch 54, Train Loss: 0.5591 Validation Loss: 0.549599681297938\n",
      "Epoch 55, Train Loss: 0.5585 Validation Loss: 0.5431599100430806\n",
      "Epoch 56, Train Loss: 0.5567 Validation Loss: 0.5464109599590301\n",
      "Epoch 57, Train Loss: 0.5568 Validation Loss: 0.5462287624677022\n",
      "Epoch 58, Train Loss: 0.5565 Validation Loss: 0.5450932522614796\n",
      "Epoch 59, Train Loss: 0.5552 Validation Loss: 0.5509609997272491\n",
      "Epoch 60, Train Loss: 0.5542 Validation Loss: 0.5587095081806183\n",
      "Epoch 61, Train Loss: 0.5551 Validation Loss: 0.5443197389443716\n",
      "Epoch 62, Train Loss: 0.5539 Validation Loss: 0.5432127197583516\n",
      "Epoch 63, Train Loss: 0.5524 Validation Loss: 0.5456857363382975\n",
      "Epoch 64, Train Loss: 0.5523 Validation Loss: 0.5527865350246429\n",
      "Epoch 65, Train Loss: 0.5516 Validation Loss: 0.5495324691136678\n",
      "Epoch 66, Train Loss: 0.5513 Validation Loss: 0.543203334013621\n",
      "Epoch 67, Train Loss: 0.5505 Validation Loss: 0.5438993414243062\n",
      "Epoch 68, Train Loss: 0.5497 Validation Loss: 0.5445673167705536\n",
      "Epoch 69, Train Loss: 0.5493 Validation Loss: 0.54116992354393\n",
      "Epoch 70, Train Loss: 0.5486 Validation Loss: 0.5420319716135661\n",
      "Epoch 71, Train Loss: 0.5481 Validation Loss: 0.5438138385613759\n",
      "Epoch 72, Train Loss: 0.5480 Validation Loss: 0.5446242849032085\n",
      "Epoch 73, Train Loss: 0.5477 Validation Loss: 0.5510168929894765\n",
      "Epoch 74, Train Loss: 0.5467 Validation Loss: 0.5404537479082744\n",
      "Epoch 75, Train Loss: 0.5462 Validation Loss: 0.5482399483521779\n",
      "Epoch 76, Train Loss: 0.5458 Validation Loss: 0.5384921987851461\n",
      "Epoch 77, Train Loss: 0.5458 Validation Loss: 0.5470688700675964\n",
      "Epoch 78, Train Loss: 0.5456 Validation Loss: 0.5488091011842092\n",
      "Epoch 79, Train Loss: 0.5446 Validation Loss: 0.5477663973967234\n",
      "Epoch 80, Train Loss: 0.5443 Validation Loss: 0.5454754412174225\n",
      "Epoch 81, Train Loss: 0.5436 Validation Loss: 0.5417540113131205\n",
      "Epoch 82, Train Loss: 0.5435 Validation Loss: 0.5441094835599264\n",
      "Epoch 83, Train Loss: 0.5438 Validation Loss: 0.5502541999022166\n",
      "Epoch 84, Train Loss: 0.5432 Validation Loss: 0.5515465795993805\n",
      "Epoch 85, Train Loss: 0.5429 Validation Loss: 0.5443097809950511\n",
      "Epoch 86, Train Loss: 0.5427 Validation Loss: 0.5500134587287903\n",
      "Epoch 87, Train Loss: 0.5422 Validation Loss: 0.5438001235326131\n",
      "Epoch 88, Train Loss: 0.5422 Validation Loss: 0.5484213829040527\n",
      "Epoch 89, Train Loss: 0.5420 Validation Loss: 0.549485182762146\n",
      "Epoch 90, Train Loss: 0.5408 Validation Loss: 0.544554736216863\n",
      "Epoch 91, Train Loss: 0.5418 Validation Loss: 0.5534444332122803\n",
      "Epoch 92, Train Loss: 0.5408 Validation Loss: 0.5397851208845774\n",
      "Epoch 93, Train Loss: 0.5418 Validation Loss: 0.5368740737438202\n",
      "Epoch 94, Train Loss: 0.5405 Validation Loss: 0.5537421981493632\n",
      "Epoch 95, Train Loss: 0.5403 Validation Loss: 0.5464870572090149\n",
      "Epoch 96, Train Loss: 0.5406 Validation Loss: 0.5493117372194926\n",
      "Epoch 97, Train Loss: 0.5401 Validation Loss: 0.545876278479894\n",
      "Epoch 98, Train Loss: 0.5399 Validation Loss: 0.5469467262427012\n",
      "Epoch 99, Train Loss: 0.5398 Validation Loss: 0.546184895435969\n",
      "Epoch 100, Train Loss: 0.5403 Validation Loss: 0.5472644885381063\n"
     ]
    }
   ],
   "source": [
    "epochs = 100\n",
    "\n",
    "train_loss = []\n",
    "valid_loss = []\n",
    "\n",
    "best_valid_loss = float('inf')\n",
    "best_epoch = 0\n",
    "\n",
    "basic_model_path = './basic_model_best.pth'\n",
    "\n",
    "for epoch in range(epochs):\n",
    "    basic_model.train()\n",
    "    batch_loss = []\n",
    "    for inputs, targets in train_loader:\n",
    "        basic_optimiser.zero_grad()\n",
    "        outputs = basic_model(inputs)\n",
    "        loss = basic_criterion(outputs, targets)\n",
    "        loss.backward()\n",
    "        basic_optimiser.step()\n",
    "        batch_loss.append(loss.item())\n",
    "\n",
    "    epoch_loss = sum(batch_loss) / len(batch_loss)\n",
    "    train_loss.append(epoch_loss)\n",
    "    \n",
    "    basic_model.eval()\n",
    "    with torch.no_grad():\n",
    "        loss_sum = 0\n",
    "        for inputs, targets in valid_loader:\n",
    "            outputs = basic_model(inputs)\n",
    "            loss = basic_criterion(outputs, targets)\n",
    "            loss_sum += loss.item()\n",
    "    valid_loss.append(loss_sum/len(valid_loader))\n",
    "    print(f'Epoch {epoch+1}, Train Loss: {epoch_loss:.4f} Validation Loss: {valid_loss[-1]}')\n",
    "    \n",
    "    if valid_loss[-1] < best_valid_loss:\n",
    "        best_valid_loss = valid_loss[-1]\n",
    "        best_epoch = epoch\n",
    "        torch.save(basic_model.state_dict(), basic_model_path)"
   ]
  },
  {
   "cell_type": "code",
   "execution_count": 26,
   "id": "e8572375-ae7a-45f4-9266-af67f1e6f4a1",
   "metadata": {},
   "outputs": [
    {
     "data": {
      "image/png": "[encoded data removed]",
      "text/plain": [
       "<Figure size 640x480 with 1 Axes>"
      ]
     },
     "metadata": {},
     "output_type": "display_data"
    }
   ],
   "source": [
    "import matplotlib.pyplot as plt\n",
    "import numpy as np\n",
    "\n",
    "def plot_loss_curves(epochs, train_loss, valid_loss):\n",
    "    plt.plot(epochs, train_loss, label='Train loss')\n",
    "    plt.plot(epochs, valid_loss, label='Validation loss')\n",
    "    plt.xlabel('Epoch')\n",
    "    plt.ylabel('MAE Loss')\n",
    "    plt.legend()\n",
    "    plt.show()\n",
    "\n",
    "plot_loss_curves(np.linspace(1, epochs, epochs), train_loss, valid_loss)"
   ]
  },
  {
   "cell_type": "code",
   "execution_count": 27,
   "id": "d180ad62-d23d-4819-a4af-ca3f92b7ba4c",
   "metadata": {},
   "outputs": [
    {
     "name": "stdout",
     "output_type": "stream",
     "text": [
      "Test Loss: 0.5453871190547943\n"
     ]
    }
   ],
   "source": [
    "basic_model.load_state_dict(torch.load(basic_model_path))\n",
    "\n",
    "basic_model.eval()\n",
    "with torch.no_grad():\n",
    "    loss_sum = 0\n",
    "    for inputs, targets in test_loader:\n",
    "        outputs = basic_model(inputs)\n",
    "        loss = basic_criterion(outputs, targets)\n",
    "        loss_sum += loss.item()\n",
    "    print(f'Test Loss: {loss_sum/len(valid_loader)}')"
   ]
  },
  {
   "cell_type": "markdown",
   "id": "threatened-simple",
   "metadata": {},
   "source": [
    "# Making changes to basic MLP"
   ]
  },
  {
   "cell_type": "markdown",
   "id": "13ddc3c2-261f-42b9-a284-2508f8afbcee",
   "metadata": {},
   "source": [
    "### Add additional hidden layers with more nodes\n",
    "### Change activation to softplus"
   ]
  },
  {
   "cell_type": "code",
   "execution_count": 28,
   "id": "severe-literacy",
   "metadata": {},
   "outputs": [],
   "source": [
    "import torch.nn as nn\n",
    "\n",
    "class MLP(nn.Module):\n",
    "    def __init__(self, input_size, output_size=1):\n",
    "        super(MLP, self).__init__()\n",
    "        self.linear1 = nn.Linear(input_size, 7)\n",
    "        self.linear2 = nn.Linear(7, 5)\n",
    "        self.linear3 = nn.Linear(5, 6)\n",
    "        self.output = nn.Linear(6, output_size)\n",
    "        self.activation = nn.Softplus()\n",
    "\n",
    "    def forward(self, x):\n",
    "        out = self.linear1(x)\n",
    "        out = self.activation(out)\n",
    "        out = self.linear2(out)\n",
    "        out = self.activation(out)\n",
    "        out = self.linear3(out)\n",
    "        out = self.activation(out)\n",
    "        out = self.output(out)\n",
    "        return out.squeeze(1)"
   ]
  },
  {
   "cell_type": "code",
   "execution_count": 35,
   "id": "dd79b7c5-ce6d-4105-9e4b-99f2a9d7862d",
   "metadata": {},
   "outputs": [
    {
     "data": {
      "text/plain": [
       "MLP(\n",
       "  (linear1): Linear(in_features=11, out_features=7, bias=True)\n",
       "  (linear2): Linear(in_features=7, out_features=5, bias=True)\n",
       "  (linear3): Linear(in_features=5, out_features=6, bias=True)\n",
       "  (output): Linear(in_features=6, out_features=1, bias=True)\n",
       "  (activation): Softplus(beta=1.0, threshold=20.0)\n",
       ")"
      ]
     },
     "execution_count": 35,
     "metadata": {},
     "output_type": "execute_result"
    }
   ],
   "source": [
    "model = MLP(11)\n",
    "model"
   ]
  },
  {
   "cell_type": "markdown",
   "id": "3d419c4a-55e4-4c99-bf22-be19c9bdb4b5",
   "metadata": {},
   "source": [
    "### Change learning rate to 0.001 to speed it up"
   ]
  },
  {
   "cell_type": "code",
   "execution_count": 36,
   "id": "933cb060-7563-404a-a623-65074457a763",
   "metadata": {},
   "outputs": [],
   "source": [
    "criterion = nn.L1Loss()\n",
    "optimiser = torch.optim.SGD(params=model.parameters(), lr=0.0001, momentum=0.34)"
   ]
  },
  {
   "cell_type": "code",
   "execution_count": 37,
   "id": "c141ca02-e0f3-4ce0-a114-4bde8e662bae",
   "metadata": {
    "scrolled": true
   },
   "outputs": [
    {
     "name": "stdout",
     "output_type": "stream",
     "text": [
      "Epoch 1, Train Loss: 4.7414 Validation Loss: 4.746191962560018\n",
      "Epoch 2, Train Loss: 4.6544 Validation Loss: 4.659333372116089\n",
      "Epoch 3, Train Loss: 4.5675 Validation Loss: 4.5723146597544355\n",
      "Epoch 4, Train Loss: 4.4803 Validation Loss: 4.484930880864462\n",
      "Epoch 5, Train Loss: 4.3927 Validation Loss: 4.397063318888346\n",
      "Epoch 6, Train Loss: 4.3046 Validation Loss: 4.308632477124532\n",
      "Epoch 7, Train Loss: 4.2159 Validation Loss: 4.219576247533163\n",
      "Epoch 8, Train Loss: 4.1265 Validation Loss: 4.129840135574341\n",
      "Epoch 9, Train Loss: 4.0364 Validation Loss: 4.039370203018189\n",
      "Epoch 10, Train Loss: 3.9456 Validation Loss: 3.9481096506118774\n",
      "Epoch 11, Train Loss: 3.8539 Validation Loss: 3.8559952100118\n",
      "Epoch 12, Train Loss: 3.7614 Validation Loss: 3.7629554907480878\n",
      "Epoch 13, Train Loss: 3.6678 Validation Loss: 3.6689014037450156\n",
      "Epoch 14, Train Loss: 3.5732 Validation Loss: 3.573723387718201\n",
      "Epoch 15, Train Loss: 3.4775 Validation Loss: 3.477274791399638\n",
      "Epoch 16, Train Loss: 3.3803 Validation Loss: 3.37934574286143\n",
      "Epoch 17, Train Loss: 3.2815 Validation Loss: 3.2796109835306804\n",
      "Epoch 18, Train Loss: 3.1807 Validation Loss: 3.177505119641622\n",
      "Epoch 19, Train Loss: 3.0771 Validation Loss: 3.071883773803711\n",
      "Epoch 20, Train Loss: 2.9688 Validation Loss: 2.9598397970199586\n",
      "Epoch 21, Train Loss: 2.8504 Validation Loss: 2.8301050027211505\n",
      "Epoch 22, Train Loss: 2.6773 Validation Loss: 2.5172523578008015\n",
      "Epoch 23, Train Loss: 1.7859 Validation Loss: 1.4746054112911224\n",
      "Epoch 24, Train Loss: 1.4498 Validation Loss: 1.3604963640371959\n",
      "Epoch 25, Train Loss: 1.3305 Validation Loss: 1.2427513460318247\n",
      "Epoch 26, Train Loss: 1.2036 Validation Loss: 1.1133259773254394\n",
      "Epoch 27, Train Loss: 1.0668 Validation Loss: 0.9828746239344279\n",
      "Epoch 28, Train Loss: 0.9283 Validation Loss: 0.8576538542906443\n",
      "Epoch 29, Train Loss: 0.7966 Validation Loss: 0.75065625111262\n",
      "Epoch 30, Train Loss: 0.6983 Validation Loss: 0.6850316206614177\n",
      "Epoch 31, Train Loss: 0.6460 Validation Loss: 0.6456609110037486\n",
      "Epoch 32, Train Loss: 0.6170 Validation Loss: 0.6202056705951691\n",
      "Epoch 33, Train Loss: 0.6000 Validation Loss: 0.6026572942733764\n",
      "Epoch 34, Train Loss: 0.5881 Validation Loss: 0.5950590054194133\n",
      "Epoch 35, Train Loss: 0.5785 Validation Loss: 0.577413147687912\n",
      "Epoch 36, Train Loss: 0.5723 Validation Loss: 0.5689933141072591\n",
      "Epoch 37, Train Loss: 0.5682 Validation Loss: 0.5638864596684774\n",
      "Epoch 38, Train Loss: 0.5652 Validation Loss: 0.5607870896657308\n",
      "Epoch 39, Train Loss: 0.5634 Validation Loss: 0.5603752235571543\n",
      "Epoch 40, Train Loss: 0.5612 Validation Loss: 0.5576476275920867\n",
      "Epoch 41, Train Loss: 0.5603 Validation Loss: 0.5581020692984263\n",
      "Epoch 42, Train Loss: 0.5587 Validation Loss: 0.5534169137477875\n",
      "Epoch 43, Train Loss: 0.5589 Validation Loss: 0.5594854474067688\n",
      "Epoch 44, Train Loss: 0.5589 Validation Loss: 0.5592839658260346\n",
      "Epoch 45, Train Loss: 0.5581 Validation Loss: 0.5596829136212667\n",
      "Epoch 46, Train Loss: 0.5574 Validation Loss: 0.5516404251257578\n",
      "Epoch 47, Train Loss: 0.5572 Validation Loss: 0.5522156020005544\n",
      "Epoch 48, Train Loss: 0.5569 Validation Loss: 0.5594119528929392\n",
      "Epoch 49, Train Loss: 0.5575 Validation Loss: 0.5578003883361816\n",
      "Epoch 50, Train Loss: 0.5569 Validation Loss: 0.5541951855023702\n",
      "Epoch 51, Train Loss: 0.5563 Validation Loss: 0.5587954084078471\n",
      "Epoch 52, Train Loss: 0.5558 Validation Loss: 0.553883429368337\n",
      "Epoch 53, Train Loss: 0.5562 Validation Loss: 0.5599969506263733\n",
      "Epoch 54, Train Loss: 0.5557 Validation Loss: 0.5579614122708638\n",
      "Epoch 55, Train Loss: 0.5551 Validation Loss: 0.558765971660614\n",
      "Epoch 56, Train Loss: 0.5547 Validation Loss: 0.5579778790473938\n",
      "Epoch 57, Train Loss: 0.5542 Validation Loss: 0.5524945835272471\n",
      "Epoch 58, Train Loss: 0.5552 Validation Loss: 0.552655569712321\n",
      "Epoch 59, Train Loss: 0.5549 Validation Loss: 0.557757830619812\n",
      "Epoch 60, Train Loss: 0.5537 Validation Loss: 0.55182892481486\n",
      "Epoch 61, Train Loss: 0.5540 Validation Loss: 0.5577631493409475\n",
      "Epoch 62, Train Loss: 0.5538 Validation Loss: 0.5530187586943308\n",
      "Epoch 63, Train Loss: 0.5540 Validation Loss: 0.554571137825648\n",
      "Epoch 64, Train Loss: 0.5530 Validation Loss: 0.552351466814677\n",
      "Epoch 65, Train Loss: 0.5538 Validation Loss: 0.5546806732813517\n",
      "Epoch 66, Train Loss: 0.5526 Validation Loss: 0.5520950754483541\n",
      "Epoch 67, Train Loss: 0.5528 Validation Loss: 0.5525868793328603\n",
      "Epoch 68, Train Loss: 0.5533 Validation Loss: 0.5521354059378306\n",
      "Epoch 69, Train Loss: 0.5523 Validation Loss: 0.5564931770165761\n",
      "Epoch 70, Train Loss: 0.5521 Validation Loss: 0.5521904130776724\n",
      "Epoch 71, Train Loss: 0.5516 Validation Loss: 0.5583400845527648\n",
      "Epoch 72, Train Loss: 0.5520 Validation Loss: 0.5578446328639984\n",
      "Epoch 73, Train Loss: 0.5527 Validation Loss: 0.5520080685615539\n",
      "Epoch 74, Train Loss: 0.5515 Validation Loss: 0.5560915688673655\n",
      "Epoch 75, Train Loss: 0.5506 Validation Loss: 0.5567510803540547\n",
      "Epoch 76, Train Loss: 0.5508 Validation Loss: 0.5572838465372721\n",
      "Epoch 77, Train Loss: 0.5509 Validation Loss: 0.5572768986225128\n",
      "Epoch 78, Train Loss: 0.5506 Validation Loss: 0.5616421361764272\n",
      "Epoch 79, Train Loss: 0.5504 Validation Loss: 0.5583114365736643\n",
      "Epoch 80, Train Loss: 0.5518 Validation Loss: 0.5543037056922913\n",
      "Epoch 81, Train Loss: 0.5506 Validation Loss: 0.5537672142187754\n",
      "Epoch 82, Train Loss: 0.5496 Validation Loss: 0.5549873967965444\n",
      "Epoch 83, Train Loss: 0.5497 Validation Loss: 0.5530900299549103\n",
      "Epoch 84, Train Loss: 0.5500 Validation Loss: 0.5565544188022613\n",
      "Epoch 85, Train Loss: 0.5506 Validation Loss: 0.5543033123016358\n",
      "Epoch 86, Train Loss: 0.5503 Validation Loss: 0.5529264152050019\n",
      "Epoch 87, Train Loss: 0.5497 Validation Loss: 0.5529768586158752\n",
      "Epoch 88, Train Loss: 0.5497 Validation Loss: 0.5529422005017598\n",
      "Epoch 89, Train Loss: 0.5492 Validation Loss: 0.5539682845274607\n",
      "Epoch 90, Train Loss: 0.5502 Validation Loss: 0.5545868058999379\n",
      "Epoch 91, Train Loss: 0.5494 Validation Loss: 0.5628502349058787\n",
      "Epoch 92, Train Loss: 0.5500 Validation Loss: 0.5541972200075785\n",
      "Epoch 93, Train Loss: 0.5500 Validation Loss: 0.5537654240926106\n",
      "Epoch 94, Train Loss: 0.5494 Validation Loss: 0.5529999375343323\n",
      "Epoch 95, Train Loss: 0.5495 Validation Loss: 0.5525608499844868\n",
      "Epoch 96, Train Loss: 0.5491 Validation Loss: 0.5662098586559295\n",
      "Epoch 97, Train Loss: 0.5489 Validation Loss: 0.5619698703289032\n",
      "Epoch 98, Train Loss: 0.5489 Validation Loss: 0.5567590852578481\n",
      "Epoch 99, Train Loss: 0.5492 Validation Loss: 0.5544267435868581\n",
      "Epoch 100, Train Loss: 0.5486 Validation Loss: 0.5629985133806864\n"
     ]
    }
   ],
   "source": [
    "epochs = 100\n",
    "\n",
    "train_loss = []\n",
    "valid_loss = []\n",
    "\n",
    "best_valid_loss = float('inf')\n",
    "best_epoch = 0\n",
    "\n",
    "model_path = './model_best.pth'\n",
    "\n",
    "for epoch in range(epochs):\n",
    "    model.train()\n",
    "    batch_loss = []\n",
    "    for inputs, targets in train_loader:\n",
    "        optimiser.zero_grad()\n",
    "        outputs = model(inputs)\n",
    "        loss = criterion(outputs, targets)\n",
    "        loss.backward()\n",
    "        optimiser.step()\n",
    "        batch_loss.append(loss.item())\n",
    "\n",
    "    epoch_loss = sum(batch_loss) / len(batch_loss)\n",
    "    train_loss.append(epoch_loss)\n",
    "    \n",
    "    model.eval()\n",
    "    with torch.no_grad():\n",
    "        loss_sum = 0\n",
    "        for inputs, targets in valid_loader:\n",
    "            outputs = model(inputs)\n",
    "            loss = criterion(outputs, targets)\n",
    "            loss_sum += loss.item()\n",
    "    valid_loss.append(loss_sum/len(valid_loader))\n",
    "    print(f'Epoch {epoch+1}, Train Loss: {epoch_loss:.4f} Validation Loss: {valid_loss[-1]}')\n",
    "    \n",
    "    if valid_loss[-1] < best_valid_loss:\n",
    "        best_valid_loss = valid_loss[-1]\n",
    "        best_epoch = epoch\n",
    "        torch.save(model.state_dict(), model_path)"
   ]
  },
  {
   "cell_type": "code",
   "execution_count": 38,
   "id": "0e35c82f-9faf-49cc-880a-35e1b9223325",
   "metadata": {},
   "outputs": [
    {
     "data": {
      "image/png": "[encoded data removed]",
      "text/plain": [
       "<Figure size 640x480 with 1 Axes>"
      ]
     },
     "metadata": {},
     "output_type": "display_data"
    }
   ],
   "source": [
    "plot_loss_curves(np.linspace(1, epochs, epochs), train_loss, valid_loss)"
   ]
  },
  {
   "cell_type": "code",
   "execution_count": 39,
   "id": "98ed8107-cbd0-4cf5-8e80-76e03fa632e8",
   "metadata": {},
   "outputs": [
    {
     "name": "stdout",
     "output_type": "stream",
     "text": [
      "Test Loss: 0.5749087393283844\n"
     ]
    }
   ],
   "source": [
    "model.load_state_dict(torch.load(model_path))\n",
    "\n",
    "model.eval()\n",
    "with torch.no_grad():\n",
    "    loss_sum = 0\n",
    "    for inputs, targets in test_loader:\n",
    "        outputs = model(inputs)\n",
    "        loss = criterion(outputs, targets)\n",
    "        loss_sum += loss.item()\n",
    "    print(f'Test Loss: {loss_sum/len(valid_loader)}')"
   ]
  },
  {
   "cell_type": "markdown",
   "id": "standard-territory",
   "metadata": {},
   "source": [
    "# Optional: Implementing the MLP"
   ]
  },
  {
   "cell_type": "code",
   "execution_count": 33,
   "id": "secret-constitution",
   "metadata": {},
   "outputs": [],
   "source": [
    "# Add steps"
   ]
  },
  {
   "cell_type": "code",
   "execution_count": null,
   "id": "5935a927-80df-4680-8225-7105dc8693b8",
   "metadata": {},
   "outputs": [],
   "source": []
  }
 ],
 "metadata": {
  "kernelspec": {
   "display_name": "Python 3 (ipykernel)",
   "language": "python",
   "name": "python3"
  },
  "language_info": {
   "codemirror_mode": {
    "name": "ipython",
    "version": 3
   },
   "file_extension": ".py",
   "mimetype": "text/x-python",
   "name": "python",
   "nbconvert_exporter": "python",
   "pygments_lexer": "ipython3",
   "version": "3.12.2"
  }
 },
 "nbformat": 4,
 "nbformat_minor": 5
}
